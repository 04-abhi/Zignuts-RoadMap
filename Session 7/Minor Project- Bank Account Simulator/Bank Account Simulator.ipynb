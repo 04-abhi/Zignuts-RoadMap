{
 "cells": [
  {
   "cell_type": "markdown",
   "id": "1782d2ad",
   "metadata": {},
   "source": [
    "## Bank Account Simulation"
   ]
  },
  {
   "cell_type": "code",
   "execution_count": 1,
   "id": "4dcdd44e",
   "metadata": {},
   "outputs": [
    {
     "name": "stdout",
     "output_type": "stream",
     "text": [
      "=== Bank Account Simulator ===\n",
      "\n",
      "1. Deposit\n",
      "2. Withdraw\n",
      "3. Check Balance\n",
      "4. Exit\n",
      "Current Balance: 0.0\n",
      "\n",
      "1. Deposit\n",
      "2. Withdraw\n",
      "3. Check Balance\n",
      "4. Exit\n",
      "Deposited: 50000.0\n",
      "\n",
      "1. Deposit\n",
      "2. Withdraw\n",
      "3. Check Balance\n",
      "4. Exit\n",
      "Current Balance: 50000.0\n",
      "\n",
      "1. Deposit\n",
      "2. Withdraw\n",
      "3. Check Balance\n",
      "4. Exit\n",
      "Thank you, Abhinav\n"
     ]
    }
   ],
   "source": [
    "class BankAccount:\n",
    "    def __init__(self, owner, balance=0.0):\n",
    "        self.owner = owner\n",
    "        self.balance = balance\n",
    "\n",
    "    def deposit(self, amount):\n",
    "        if amount <= 0:\n",
    "            print(\"Invalid deposit amount.\")\n",
    "        else:\n",
    "            self.balance += amount\n",
    "            print(\"Deposited:\", amount)\n",
    "\n",
    "    def withdraw(self, amount):\n",
    "        if amount <= 0:\n",
    "            print(\"Invalid withdrawal amount.\")\n",
    "        elif amount > self.balance:\n",
    "            print(\"Insufficient balance.\")\n",
    "        else:\n",
    "            self.balance -= amount\n",
    "            print(\"Withdrawn:\", amount)\n",
    "\n",
    "    def check_balance(self):\n",
    "        print(\"Current Balance:\", self.balance)\n",
    "\n",
    "\n",
    "# --- main program ---\n",
    "print(\"=== Bank Account Simulator ===\")\n",
    "name = input(\"Enter account holder name: \")\n",
    "account = BankAccount(name)\n",
    "\n",
    "while True:\n",
    "    print(\"\\n1. Deposit\")\n",
    "    print(\"2. Withdraw\")\n",
    "    print(\"3. Check Balance\")\n",
    "    print(\"4. Exit\")\n",
    "\n",
    "    choice = input(\"Enter your choice: \")\n",
    "\n",
    "    try:\n",
    "        if choice == '1':\n",
    "            amt = float(input(\"Enter amount to deposit: \"))\n",
    "            account.deposit(amt)\n",
    "        elif choice == '2':\n",
    "            amt = float(input(\"Enter amount to withdraw: \"))\n",
    "            account.withdraw(amt)\n",
    "        elif choice == '3':\n",
    "            account.check_balance()\n",
    "        elif choice == '4':\n",
    "            print(\"Thank you,\", name)\n",
    "            break\n",
    "        else:\n",
    "            print(\"Invalid choice. Try again.\")\n",
    "    except ValueError:\n",
    "        print(\"Invalid input! Please enter a number.\")\n"
   ]
  }
 ],
 "metadata": {
  "kernelspec": {
   "display_name": "Python 3",
   "language": "python",
   "name": "python3"
  },
  "language_info": {
   "codemirror_mode": {
    "name": "ipython",
    "version": 3
   },
   "file_extension": ".py",
   "mimetype": "text/x-python",
   "name": "python",
   "nbconvert_exporter": "python",
   "pygments_lexer": "ipython3",
   "version": "3.11.9"
  }
 },
 "nbformat": 4,
 "nbformat_minor": 5
}
