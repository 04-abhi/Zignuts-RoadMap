{
 "cells": [
  {
   "cell_type": "markdown",
   "id": "f1aed434",
   "metadata": {},
   "source": [
    "## Simple CLI Calculator"
   ]
  },
  {
   "cell_type": "code",
   "execution_count": 1,
   "id": "bfc4bd1d",
   "metadata": {},
   "outputs": [
    {
     "name": "stdout",
     "output_type": "stream",
     "text": [
      "=== Simple Calculator ===\n",
      "Result = 11.0\n",
      "Result = 0.7777777777777778\n",
      "Exiting Calculator...\n"
     ]
    }
   ],
   "source": [
    "print(\"=== Simple Calculator ===\")\n",
    "\n",
    "while True:\n",
    "    try:\n",
    "        a = float(input(\"Enter first number: \"))\n",
    "        b = float(input(\"Enter second number: \"))\n",
    "        op = input(\"Enter operator (+, -, *, /): \")\n",
    "\n",
    "        if op == '+':\n",
    "            print(\"Result =\", a + b)\n",
    "        elif op == '-':\n",
    "            print(\"Result =\", a - b)\n",
    "        elif op == '*':\n",
    "            print(\"Result =\", a * b)\n",
    "        elif op == '/':\n",
    "            if b == 0:\n",
    "                print(\"Error: Division by zero not allowed.\")\n",
    "            else:\n",
    "                print(\"Result =\", a / b)\n",
    "        else:\n",
    "            print(\"Invalid operator. Use only +, -, *, /\")\n",
    "\n",
    "    except ValueError:\n",
    "        print(\"Invalid input! Please enter numbers only.\")\n",
    "\n",
    "    again = input(\"Do you want to calculate again? (y/n): \").lower()\n",
    "    if again != 'y':\n",
    "        print(\"Exiting Calculator...\")\n",
    "        break\n"
   ]
  }
 ],
 "metadata": {
  "kernelspec": {
   "display_name": "Python 3",
   "language": "python",
   "name": "python3"
  },
  "language_info": {
   "codemirror_mode": {
    "name": "ipython",
    "version": 3
   },
   "file_extension": ".py",
   "mimetype": "text/x-python",
   "name": "python",
   "nbconvert_exporter": "python",
   "pygments_lexer": "ipython3",
   "version": "3.11.9"
  }
 },
 "nbformat": 4,
 "nbformat_minor": 5
}
