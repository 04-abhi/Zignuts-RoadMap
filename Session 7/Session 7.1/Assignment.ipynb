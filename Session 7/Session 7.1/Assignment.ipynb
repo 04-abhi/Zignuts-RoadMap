{
 "cells": [
  {
   "cell_type": "markdown",
   "id": "f0acb1c1",
   "metadata": {},
   "source": [
    "#### Write a python program to find the sum of first N prime numbers"
   ]
  },
  {
   "cell_type": "code",
   "execution_count": 1,
   "id": "016df785",
   "metadata": {},
   "outputs": [
    {
     "name": "stdout",
     "output_type": "stream",
     "text": [
      "Sum of first 5 prime numbers is: 28\n"
     ]
    }
   ],
   "source": [
    "# Prime numbers finding function\n",
    "def is_prime(n):\n",
    "    if n < 2:\n",
    "        return False\n",
    "    for i in range(2, int(n**0.5)+1):\n",
    "        if n % i == 0:\n",
    "            return False\n",
    "    return True\n",
    "\n",
    "n = int(input(\"Enter N: \"))\n",
    "count = 0\n",
    "num = 2\n",
    "sum = 0\n",
    "\n",
    "while count < n:\n",
    "    if is_prime(num):\n",
    "        sum += num\n",
    "        count += 1\n",
    "    num += 1\n",
    "\n",
    "print(\"Sum of first\", n, \"prime numbers is:\", sum)"
   ]
  },
  {
   "cell_type": "markdown",
   "id": "6ddd0b33",
   "metadata": {},
   "source": [
    "#### Write a program to check if a number is even or odd."
   ]
  },
  {
   "cell_type": "code",
   "execution_count": 2,
   "id": "5b5c9b5d",
   "metadata": {},
   "outputs": [
    {
     "name": "stdout",
     "output_type": "stream",
     "text": [
      "5 is odd\n"
     ]
    }
   ],
   "source": [
    "n = int(input(\"Enter a number: \"))\n",
    "\n",
    "if n % 2 == 0:\n",
    "    print(n, \"is even\")\n",
    "else:\n",
    "    print(n, \"is odd\")"
   ]
  },
  {
   "cell_type": "markdown",
   "id": "eb96bc34",
   "metadata": {},
   "source": [
    "#### Write a simple calculator that accepts two numbers and an operator (+, -, *, /) and prints the result."
   ]
  },
  {
   "cell_type": "code",
   "execution_count": 5,
   "id": "90fceb96",
   "metadata": {},
   "outputs": [
    {
     "name": "stdout",
     "output_type": "stream",
     "text": [
      "Simple Calculator\n",
      "Result = -1.0\n"
     ]
    }
   ],
   "source": [
    "print(\"Simple Calculator\")\n",
    "a = float(input(\"Enter first number: \"))\n",
    "b = float(input(\"Enter second number: \"))\n",
    "op = input(\"Enter operator (+, -, *, /): \")\n",
    "\n",
    "if op == '+':\n",
    "    print(\"Result =\", a + b)\n",
    "elif op == '-':\n",
    "    print(\"Result =\", a - b)\n",
    "elif op == '*':\n",
    "    print(\"Result =\", a * b)\n",
    "elif op == '/':\n",
    "    if b == 0:\n",
    "        print(\"Cannot divide by zero\")\n",
    "    else:\n",
    "        print(\"Result =\", a / b)\n",
    "else:\n",
    "    print(\"Invalid operator\")\n"
   ]
  }
 ],
 "metadata": {
  "kernelspec": {
   "display_name": "Python 3",
   "language": "python",
   "name": "python3"
  },
  "language_info": {
   "codemirror_mode": {
    "name": "ipython",
    "version": 3
   },
   "file_extension": ".py",
   "mimetype": "text/x-python",
   "name": "python",
   "nbconvert_exporter": "python",
   "pygments_lexer": "ipython3",
   "version": "3.11.9"
  }
 },
 "nbformat": 4,
 "nbformat_minor": 5
}
