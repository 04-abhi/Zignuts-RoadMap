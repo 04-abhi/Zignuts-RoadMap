{
 "cells": [
  {
   "cell_type": "markdown",
   "id": "89e7f12a",
   "metadata": {},
   "source": [
    "#### Write a program to reverse a string without using built-in methods."
   ]
  },
  {
   "cell_type": "code",
   "execution_count": 1,
   "id": "e3bcbe7f",
   "metadata": {},
   "outputs": [
    {
     "name": "stdout",
     "output_type": "stream",
     "text": [
      "Reversed string: gnirts a si sihT\n"
     ]
    }
   ],
   "source": [
    "s = input(\"Enter a string: \")\n",
    "rev = ''\n",
    "\n",
    "for ch in s:\n",
    "    rev = ch + rev\n",
    "\n",
    "print(\"Reversed string:\", rev)"
   ]
  },
  {
   "cell_type": "markdown",
   "id": "51818210",
   "metadata": {},
   "source": [
    "#### Create a dictionary-based program to manage contacts."
   ]
  },
  {
   "cell_type": "code",
   "execution_count": 2,
   "id": "7acf4e6a",
   "metadata": {},
   "outputs": [
    {
     "name": "stdout",
     "output_type": "stream",
     "text": [
      "\n",
      "1. Add Contact\n",
      "2. View Contacts\n",
      "3. Search Contact\n",
      "4. Delete Contact\n",
      "5. Exit\n",
      "Exiting...\n"
     ]
    }
   ],
   "source": [
    "contacts = {}\n",
    "\n",
    "while True:\n",
    "    print(\"\\n1. Add Contact\")\n",
    "    print(\"2. View Contacts\")\n",
    "    print(\"3. Search Contact\")\n",
    "    print(\"4. Delete Contact\")\n",
    "    print(\"5. Exit\")\n",
    "    \n",
    "    choice = input(\"Enter choice: \")\n",
    "    \n",
    "    if choice == '1':\n",
    "        name = input(\"Enter name: \")\n",
    "        phone = input(\"Enter number: \")\n",
    "        contacts[name] = phone\n",
    "        print(\"Contact added!\")\n",
    "        \n",
    "    elif choice == '2':\n",
    "        if not contacts:\n",
    "            print(\"No contacts found.\")\n",
    "        else:\n",
    "            for name, num in contacts.items():\n",
    "                print(name, \":\", num)\n",
    "                \n",
    "    elif choice == '3':\n",
    "        name = input(\"Enter name to search: \")\n",
    "        if name in contacts:\n",
    "            print(name, \":\", contacts[name])\n",
    "        else:\n",
    "            print(\"Not found.\")\n",
    "            \n",
    "    elif choice == '4':\n",
    "        name = input(\"Enter name to delete: \")\n",
    "        if name in contacts:\n",
    "            del contacts[name]\n",
    "            print(\"Deleted\", name)\n",
    "        else:\n",
    "            print(\"Contact not found.\")\n",
    "            \n",
    "    elif choice == '5':\n",
    "        print(\"Exiting...\")\n",
    "        break\n",
    "    else:\n",
    "        print(\"Invalid choice\")\n"
   ]
  },
  {
   "cell_type": "markdown",
   "id": "ed97b93c",
   "metadata": {},
   "source": [
    "#### Take the complex JSON ( mix of list and dictionary ) and destructure it"
   ]
  },
  {
   "cell_type": "code",
   "execution_count": 3,
   "id": "552db9b9",
   "metadata": {},
   "outputs": [
    {
     "name": "stdout",
     "output_type": "stream",
     "text": [
      "Name: Abhinav\n",
      "First Skill: Python\n",
      "Second Project Title: Women Safety System\n",
      "\n",
      "All Projects:\n",
      "- Deepfake Detection ( 2025 )\n",
      "- Women Safety System ( 2024 )\n"
     ]
    }
   ],
   "source": [
    "data = {\n",
    "    \"name\": \"Abhinav\",\n",
    "    \"age\": 21,\n",
    "    \"skills\": [\"Python\", \"ML\", \"Flask\"],\n",
    "    \"projects\": [\n",
    "        {\"title\": \"Deepfake Detection\", \"year\": 2025},\n",
    "        {\"title\": \"Women Safety System\", \"year\": 2024}\n",
    "    ]\n",
    "}\n",
    "\n",
    "# access individual parts\n",
    "print(\"Name:\", data[\"name\"])\n",
    "print(\"First Skill:\", data[\"skills\"][0])\n",
    "print(\"Second Project Title:\", data[\"projects\"][1][\"title\"])\n",
    "\n",
    "# loop through projects\n",
    "print(\"\\nAll Projects:\")\n",
    "for p in data[\"projects\"]:\n",
    "    print(\"-\", p[\"title\"], \"(\", p[\"year\"], \")\")\n"
   ]
  },
  {
   "cell_type": "markdown",
   "id": "35fc393e",
   "metadata": {},
   "source": [
    "#### Write a class for a library system that allows adding/removing books and searching by title."
   ]
  },
  {
   "cell_type": "code",
   "execution_count": 4,
   "id": "8776fc43",
   "metadata": {},
   "outputs": [
    {
     "name": "stdout",
     "output_type": "stream",
     "text": [
      "Python Basics added to library\n",
      "Deep Learning added to library\n",
      "Python Basics is available\n",
      "Deep Learning removed from library\n"
     ]
    }
   ],
   "source": [
    "# simple library system\n",
    "\n",
    "class Library:\n",
    "    def __init__(self):\n",
    "        self.books = []\n",
    "\n",
    "    def add_book(self, title):\n",
    "        self.books.append(title)\n",
    "        print(title, \"added to library\")\n",
    "\n",
    "    def remove_book(self, title):\n",
    "        if title in self.books:\n",
    "            self.books.remove(title)\n",
    "            print(title, \"removed from library\")\n",
    "        else:\n",
    "            print(\"Book not found\")\n",
    "\n",
    "    def search_book(self, title):\n",
    "        if title in self.books:\n",
    "            print(title, \"is available\")\n",
    "        else:\n",
    "            print(title, \"not found\")\n",
    "\n",
    "\n",
    "lib = Library()\n",
    "lib.add_book(\"Python Basics\")\n",
    "lib.add_book(\"Deep Learning\")\n",
    "lib.search_book(\"Python Basics\")\n",
    "lib.remove_book(\"Deep Learning\")\n"
   ]
  },
  {
   "cell_type": "markdown",
   "id": "0a03834d",
   "metadata": {},
   "source": [
    "#### Create a program to read a CSV file and print its content."
   ]
  },
  {
   "cell_type": "code",
   "execution_count": 7,
   "id": "8b69d2fa",
   "metadata": {},
   "outputs": [
    {
     "name": "stdout",
     "output_type": "stream",
     "text": [
      "['Name', 'Age', 'Department', 'City']\n",
      "['Abhinav', '21', 'Computer Science', 'Pune']\n",
      "['Riya', '20', 'Information Technology', 'Mumbai']\n",
      "['Amit', '22', 'Electronics', 'Nagpur']\n",
      "['Sneha', '21', 'Mechanical', 'Delhi']\n",
      "['Rahul', '23', 'Civil', 'Bangalore']\n"
     ]
    }
   ],
   "source": [
    "import csv\n",
    "import os\n",
    "\n",
    "filename = os.path.join(os.getcwd(), \"sample.csv\")\n",
    "\n",
    "try:\n",
    "    with open(filename, 'r') as file:\n",
    "        reader = csv.reader(file)\n",
    "        for row in reader:\n",
    "            print(row)\n",
    "except FileNotFoundError:\n",
    "    print(\"File not found.\")\n"
   ]
  }
 ],
 "metadata": {
  "kernelspec": {
   "display_name": "Python 3",
   "language": "python",
   "name": "python3"
  },
  "language_info": {
   "codemirror_mode": {
    "name": "ipython",
    "version": 3
   },
   "file_extension": ".py",
   "mimetype": "text/x-python",
   "name": "python",
   "nbconvert_exporter": "python",
   "pygments_lexer": "ipython3",
   "version": "3.11.9"
  }
 },
 "nbformat": 4,
 "nbformat_minor": 5
}
